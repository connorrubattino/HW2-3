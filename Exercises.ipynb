{
 "cells": [
  {
   "cell_type": "markdown",
   "metadata": {},
   "source": [
    "### Exercise 1"
   ]
  },
  {
   "cell_type": "markdown",
   "metadata": {},
   "source": [
    "Given an array of positive integers `nums`, return a list of all of the negative integers.<br>\n",
    "Ex. 1<br>\n",
    "nums = [1, 3, 5, 7, 8]<br>\n",
    "Expected Output: [-1, -3, -5, -7, -8]<br>\n",
    "\n",
    "Ex. 2<br>\n",
    "nums = [100, 534, 32, 15, 77, 222, 788, 345, 75645, 22]<br>\n",
    "Expected Output: [-100, -534, -32, -15, -77, -222, -788, -345, -75645, -22]<br>"
   ]
  },
  {
   "cell_type": "code",
   "execution_count": 20,
   "metadata": {},
   "outputs": [
    {
     "data": {
      "text/plain": [
       "[-1, -5, -7, -13, -45, -6, -34827]"
      ]
     },
     "execution_count": 20,
     "metadata": {},
     "output_type": "execute_result"
    }
   ],
   "source": [
    "def neg_numbies(*list_nums):\n",
    "    n_nums =[]\n",
    "    for num in list_nums:\n",
    "        new_num = num * -1\n",
    "        n_nums.append(new_num)\n",
    "    return n_nums\n",
    "        \n",
    "\n",
    "neg_numbies(1, 5, 7, 13, 45, 6, 34827)\n",
    "    "
   ]
  },
  {
   "cell_type": "code",
   "execution_count": 40,
   "metadata": {},
   "outputs": [
    {
     "data": {
      "text/plain": [
       "[-3, -6, -89, -67, -5]"
      ]
     },
     "execution_count": 40,
     "metadata": {},
     "output_type": "execute_result"
    }
   ],
   "source": [
    "def neg_numbies2(*numslist):\n",
    "    return[num * -1 for num in numslist]\n",
    "\n",
    "neg_numbies2(3, 6, 89, 67, 5)"
   ]
  },
  {
   "cell_type": "markdown",
   "metadata": {},
   "source": [
    "### Exercise 2"
   ]
  },
  {
   "cell_type": "markdown",
   "metadata": {},
   "source": [
    "Given a string, return a list of all of the digits in the string.<br>\n",
    "Ex. 1 <br>\n",
    "address = \"123 Real Street, Apt. 2, Springfield, OR 43498\"<br>\n",
    "Expected Output: ['1', '2', '3', '2', '4', '3', '4', '9', '8']<br>\n",
    "\n",
    "Ex. 2 <br>\n",
    "sentence = \"My phone number is (555) 555-4321\"<br>\n",
    "Expected Output: ['5', '5', '5', '5', '5', '5', '4', '3', '2', '1']<br>"
   ]
  },
  {
   "cell_type": "code",
   "execution_count": 38,
   "metadata": {},
   "outputs": [
    {
     "data": {
      "text/plain": [
       "['5', '4', '2', '3', '0', '1', '0', '2', '2']"
      ]
     },
     "execution_count": 38,
     "metadata": {},
     "output_type": "execute_result"
    }
   ],
   "source": [
    "# Hint: Look at the string methods! -- help(str)\n",
    "\n",
    "#first want to identify if each character in the string is a DIGIT\n",
    "#then append to return a list of all digits\n",
    "def digit_finder(some_string):\n",
    "    digits = []\n",
    "    for digit in some_string:\n",
    "        if digit.isdigit():\n",
    "            digits.append(digit)\n",
    "    return digits\n",
    "\n",
    "digit_finder('hellow this is an example because 54% of this question happened at 230pm on 10/22')\n",
    "\n",
    "#note maybe dont use digit so much next time - that looks like a clusterf of 'digit(s)'"
   ]
  },
  {
   "cell_type": "code",
   "execution_count": 39,
   "metadata": {
    "scrolled": true
   },
   "outputs": [
    {
     "data": {
      "text/plain": [
       "['2', '4', '8', '2', '0']"
      ]
     },
     "execution_count": 39,
     "metadata": {},
     "output_type": "execute_result"
    }
   ],
   "source": [
    "def digit_finder2(given_string):\n",
    "    return[digit for digit in given_string if digit.isdigit()]\n",
    "\n",
    "digit_finder2('just sing if i smash2gether 4 fun would h8 2 n0t try')\n"
   ]
  },
  {
   "cell_type": "markdown",
   "metadata": {},
   "source": [
    "### Exercise 3"
   ]
  },
  {
   "cell_type": "markdown",
   "metadata": {},
   "source": [
    "Given a string `digits`, return a **string** of the digits + 1<br>\n",
    "\n",
    "Ex. 1<br>\n",
    "digits = '123'<br>\n",
    "Expected Output: '124'<br>\n",
    "\n",
    "Ex. 2<br>\n",
    "digits = '99'<br>\n",
    "Expected Output: '100'<br>"
   ]
  },
  {
   "cell_type": "code",
   "execution_count": 47,
   "metadata": {},
   "outputs": [
    {
     "data": {
      "text/plain": [
       "'15905'"
      ]
     },
     "execution_count": 47,
     "metadata": {},
     "output_type": "execute_result"
    }
   ],
   "source": [
    "def plus_one(string):\n",
    "    new_string = str(int(string) + 1)\n",
    "    return new_string\n",
    "\n",
    "plus_one(15904)"
   ]
  },
  {
   "cell_type": "code",
   "execution_count": 53,
   "metadata": {},
   "outputs": [
    {
     "data": {
      "text/plain": [
       "'346'"
      ]
     },
     "execution_count": 53,
     "metadata": {},
     "output_type": "execute_result"
    }
   ],
   "source": [
    "def plus_one1(numba):\n",
    "    return str(int(numba) + 1)\n",
    "\n",
    "plus_one1(345)"
   ]
  }
 ],
 "metadata": {
  "kernelspec": {
   "display_name": "Python 3 (ipykernel)",
   "language": "python",
   "name": "python3"
  },
  "language_info": {
   "codemirror_mode": {
    "name": "ipython",
    "version": 3
   },
   "file_extension": ".py",
   "mimetype": "text/x-python",
   "name": "python",
   "nbconvert_exporter": "python",
   "pygments_lexer": "ipython3",
   "version": "3.11.5"
  }
 },
 "nbformat": 4,
 "nbformat_minor": 4
}
